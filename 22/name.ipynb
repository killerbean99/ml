{
 "cells": [
  {
   "cell_type": "code",
   "execution_count": 1,
   "metadata": {},
   "outputs": [],
   "source": [
    "import pandas as pd\n",
    "import numpy as np\n",
    "import matplotlib as plt\n",
    "import seaborn as sns\n",
    "from sklearn.datasets import load_boston"
   ]
  },
  {
   "cell_type": "code",
   "execution_count": 2,
   "metadata": {},
   "outputs": [],
   "source": [
    "data = pd.read_csv(\"Fifa 23 Players Data.csv\")"
   ]
  },
  {
   "cell_type": "code",
   "execution_count": 3,
   "metadata": {},
   "outputs": [
    {
     "data": {
      "text/html": [
       "<div>\n",
       "<style scoped>\n",
       "    .dataframe tbody tr th:only-of-type {\n",
       "        vertical-align: middle;\n",
       "    }\n",
       "\n",
       "    .dataframe tbody tr th {\n",
       "        vertical-align: top;\n",
       "    }\n",
       "\n",
       "    .dataframe thead th {\n",
       "        text-align: right;\n",
       "    }\n",
       "</style>\n",
       "<table border=\"1\" class=\"dataframe\">\n",
       "  <thead>\n",
       "    <tr style=\"text-align: right;\">\n",
       "      <th></th>\n",
       "      <th>Known As</th>\n",
       "      <th>Full Name</th>\n",
       "      <th>Overall</th>\n",
       "      <th>Potential</th>\n",
       "      <th>Value(in Euro)</th>\n",
       "      <th>Positions Played</th>\n",
       "      <th>Best Position</th>\n",
       "      <th>Nationality</th>\n",
       "      <th>Image Link</th>\n",
       "      <th>Age</th>\n",
       "      <th>...</th>\n",
       "      <th>LM Rating</th>\n",
       "      <th>CM Rating</th>\n",
       "      <th>RM Rating</th>\n",
       "      <th>LWB Rating</th>\n",
       "      <th>CDM Rating</th>\n",
       "      <th>RWB Rating</th>\n",
       "      <th>LB Rating</th>\n",
       "      <th>CB Rating</th>\n",
       "      <th>RB Rating</th>\n",
       "      <th>GK Rating</th>\n",
       "    </tr>\n",
       "  </thead>\n",
       "  <tbody>\n",
       "    <tr>\n",
       "      <th>0</th>\n",
       "      <td>L. Messi</td>\n",
       "      <td>Lionel Messi</td>\n",
       "      <td>91</td>\n",
       "      <td>91</td>\n",
       "      <td>54000000</td>\n",
       "      <td>RW</td>\n",
       "      <td>CAM</td>\n",
       "      <td>Argentina</td>\n",
       "      <td>https://cdn.sofifa.net/players/158/023/23_60.png</td>\n",
       "      <td>35</td>\n",
       "      <td>...</td>\n",
       "      <td>91</td>\n",
       "      <td>88</td>\n",
       "      <td>91</td>\n",
       "      <td>67</td>\n",
       "      <td>66</td>\n",
       "      <td>67</td>\n",
       "      <td>62</td>\n",
       "      <td>53</td>\n",
       "      <td>62</td>\n",
       "      <td>22</td>\n",
       "    </tr>\n",
       "    <tr>\n",
       "      <th>1</th>\n",
       "      <td>K. Benzema</td>\n",
       "      <td>Karim Benzema</td>\n",
       "      <td>91</td>\n",
       "      <td>91</td>\n",
       "      <td>64000000</td>\n",
       "      <td>CF,ST</td>\n",
       "      <td>CF</td>\n",
       "      <td>France</td>\n",
       "      <td>https://cdn.sofifa.net/players/165/153/23_60.png</td>\n",
       "      <td>34</td>\n",
       "      <td>...</td>\n",
       "      <td>89</td>\n",
       "      <td>84</td>\n",
       "      <td>89</td>\n",
       "      <td>67</td>\n",
       "      <td>67</td>\n",
       "      <td>67</td>\n",
       "      <td>63</td>\n",
       "      <td>58</td>\n",
       "      <td>63</td>\n",
       "      <td>21</td>\n",
       "    </tr>\n",
       "    <tr>\n",
       "      <th>2</th>\n",
       "      <td>R. Lewandowski</td>\n",
       "      <td>Robert Lewandowski</td>\n",
       "      <td>91</td>\n",
       "      <td>91</td>\n",
       "      <td>84000000</td>\n",
       "      <td>ST</td>\n",
       "      <td>ST</td>\n",
       "      <td>Poland</td>\n",
       "      <td>https://cdn.sofifa.net/players/188/545/23_60.png</td>\n",
       "      <td>33</td>\n",
       "      <td>...</td>\n",
       "      <td>86</td>\n",
       "      <td>83</td>\n",
       "      <td>86</td>\n",
       "      <td>67</td>\n",
       "      <td>69</td>\n",
       "      <td>67</td>\n",
       "      <td>64</td>\n",
       "      <td>63</td>\n",
       "      <td>64</td>\n",
       "      <td>22</td>\n",
       "    </tr>\n",
       "    <tr>\n",
       "      <th>3</th>\n",
       "      <td>K. De Bruyne</td>\n",
       "      <td>Kevin De Bruyne</td>\n",
       "      <td>91</td>\n",
       "      <td>91</td>\n",
       "      <td>107500000</td>\n",
       "      <td>CM,CAM</td>\n",
       "      <td>CM</td>\n",
       "      <td>Belgium</td>\n",
       "      <td>https://cdn.sofifa.net/players/192/985/23_60.png</td>\n",
       "      <td>31</td>\n",
       "      <td>...</td>\n",
       "      <td>91</td>\n",
       "      <td>91</td>\n",
       "      <td>91</td>\n",
       "      <td>82</td>\n",
       "      <td>82</td>\n",
       "      <td>82</td>\n",
       "      <td>78</td>\n",
       "      <td>72</td>\n",
       "      <td>78</td>\n",
       "      <td>24</td>\n",
       "    </tr>\n",
       "    <tr>\n",
       "      <th>4</th>\n",
       "      <td>K. Mbappé</td>\n",
       "      <td>Kylian Mbappé</td>\n",
       "      <td>91</td>\n",
       "      <td>95</td>\n",
       "      <td>190500000</td>\n",
       "      <td>ST,LW</td>\n",
       "      <td>ST</td>\n",
       "      <td>France</td>\n",
       "      <td>https://cdn.sofifa.net/players/231/747/23_60.png</td>\n",
       "      <td>23</td>\n",
       "      <td>...</td>\n",
       "      <td>92</td>\n",
       "      <td>84</td>\n",
       "      <td>92</td>\n",
       "      <td>70</td>\n",
       "      <td>66</td>\n",
       "      <td>70</td>\n",
       "      <td>66</td>\n",
       "      <td>57</td>\n",
       "      <td>66</td>\n",
       "      <td>21</td>\n",
       "    </tr>\n",
       "  </tbody>\n",
       "</table>\n",
       "<p>5 rows × 89 columns</p>\n",
       "</div>"
      ],
      "text/plain": [
       "         Known As           Full Name  Overall  Potential  Value(in Euro)  \\\n",
       "0        L. Messi        Lionel Messi       91         91        54000000   \n",
       "1      K. Benzema       Karim Benzema       91         91        64000000   \n",
       "2  R. Lewandowski  Robert Lewandowski       91         91        84000000   \n",
       "3    K. De Bruyne     Kevin De Bruyne       91         91       107500000   \n",
       "4       K. Mbappé       Kylian Mbappé       91         95       190500000   \n",
       "\n",
       "  Positions Played Best Position Nationality  \\\n",
       "0               RW           CAM   Argentina   \n",
       "1            CF,ST            CF      France   \n",
       "2               ST            ST      Poland   \n",
       "3           CM,CAM            CM     Belgium   \n",
       "4            ST,LW            ST      France   \n",
       "\n",
       "                                         Image Link  Age  ...  LM Rating  \\\n",
       "0  https://cdn.sofifa.net/players/158/023/23_60.png   35  ...         91   \n",
       "1  https://cdn.sofifa.net/players/165/153/23_60.png   34  ...         89   \n",
       "2  https://cdn.sofifa.net/players/188/545/23_60.png   33  ...         86   \n",
       "3  https://cdn.sofifa.net/players/192/985/23_60.png   31  ...         91   \n",
       "4  https://cdn.sofifa.net/players/231/747/23_60.png   23  ...         92   \n",
       "\n",
       "   CM Rating  RM Rating  LWB Rating CDM Rating  RWB Rating  LB Rating  \\\n",
       "0         88         91          67         66          67         62   \n",
       "1         84         89          67         67          67         63   \n",
       "2         83         86          67         69          67         64   \n",
       "3         91         91          82         82          82         78   \n",
       "4         84         92          70         66          70         66   \n",
       "\n",
       "  CB Rating RB Rating GK Rating  \n",
       "0        53        62        22  \n",
       "1        58        63        21  \n",
       "2        63        64        22  \n",
       "3        72        78        24  \n",
       "4        57        66        21  \n",
       "\n",
       "[5 rows x 89 columns]"
      ]
     },
     "execution_count": 3,
     "metadata": {},
     "output_type": "execute_result"
    }
   ],
   "source": [
    "data.head()"
   ]
  },
  {
   "cell_type": "code",
   "execution_count": 4,
   "metadata": {},
   "outputs": [
    {
     "name": "stdout",
     "output_type": "stream",
     "text": [
      "<class 'pandas.core.frame.DataFrame'>\n",
      "RangeIndex: 18539 entries, 0 to 18538\n",
      "Data columns (total 87 columns):\n",
      " #   Column                       Non-Null Count  Dtype \n",
      "---  ------                       --------------  ----- \n",
      " 0   Known As                     18539 non-null  object\n",
      " 1   Full Name                    18539 non-null  object\n",
      " 2   Overall                      18539 non-null  int64 \n",
      " 3   Potential                    18539 non-null  int64 \n",
      " 4   Value(in Euro)               18539 non-null  int64 \n",
      " 5   Positions Played             18539 non-null  object\n",
      " 6   Best Position                18539 non-null  object\n",
      " 7   Nationality                  18539 non-null  object\n",
      " 8   Age                          18539 non-null  int64 \n",
      " 9   Height(in cm)                18539 non-null  int64 \n",
      " 10  Weight(in kg)                18539 non-null  int64 \n",
      " 11  TotalStats                   18539 non-null  int64 \n",
      " 12  BaseStats                    18539 non-null  int64 \n",
      " 13  Club Name                    18539 non-null  object\n",
      " 14  Wage(in Euro)                18539 non-null  int64 \n",
      " 15  Release Clause               18539 non-null  int64 \n",
      " 16  Club Position                18539 non-null  object\n",
      " 17  Contract Until               18539 non-null  object\n",
      " 18  Club Jersey Number           18539 non-null  object\n",
      " 19  Joined On                    18539 non-null  int64 \n",
      " 20  On Loan                      18539 non-null  object\n",
      " 21  Preferred Foot               18539 non-null  object\n",
      " 22  Weak Foot Rating             18539 non-null  int64 \n",
      " 23  Skill Moves                  18539 non-null  int64 \n",
      " 24  International Reputation     18539 non-null  int64 \n",
      " 25  National Team Name           18539 non-null  object\n",
      " 26  National Team Position       18539 non-null  object\n",
      " 27  National Team Jersey Number  18539 non-null  object\n",
      " 28  Attacking Work Rate          18539 non-null  object\n",
      " 29  Defensive Work Rate          18539 non-null  object\n",
      " 30  Pace Total                   18539 non-null  int64 \n",
      " 31  Shooting Total               18539 non-null  int64 \n",
      " 32  Passing Total                18539 non-null  int64 \n",
      " 33  Dribbling Total              18539 non-null  int64 \n",
      " 34  Defending Total              18539 non-null  int64 \n",
      " 35  Physicality Total            18539 non-null  int64 \n",
      " 36  Crossing                     18539 non-null  int64 \n",
      " 37  Finishing                    18539 non-null  int64 \n",
      " 38  Heading Accuracy             18539 non-null  int64 \n",
      " 39  Short Passing                18539 non-null  int64 \n",
      " 40  Volleys                      18539 non-null  int64 \n",
      " 41  Dribbling                    18539 non-null  int64 \n",
      " 42  Curve                        18539 non-null  int64 \n",
      " 43  Freekick Accuracy            18539 non-null  int64 \n",
      " 44  LongPassing                  18539 non-null  int64 \n",
      " 45  BallControl                  18539 non-null  int64 \n",
      " 46  Acceleration                 18539 non-null  int64 \n",
      " 47  Sprint Speed                 18539 non-null  int64 \n",
      " 48  Agility                      18539 non-null  int64 \n",
      " 49  Reactions                    18539 non-null  int64 \n",
      " 50  Balance                      18539 non-null  int64 \n",
      " 51  Shot Power                   18539 non-null  int64 \n",
      " 52  Jumping                      18539 non-null  int64 \n",
      " 53  Stamina                      18539 non-null  int64 \n",
      " 54  Strength                     18539 non-null  int64 \n",
      " 55  Long Shots                   18539 non-null  int64 \n",
      " 56  Aggression                   18539 non-null  int64 \n",
      " 57  Interceptions                18539 non-null  int64 \n",
      " 58  Positioning                  18539 non-null  int64 \n",
      " 59  Vision                       18539 non-null  int64 \n",
      " 60  Penalties                    18539 non-null  int64 \n",
      " 61  Composure                    18539 non-null  int64 \n",
      " 62  Marking                      18539 non-null  int64 \n",
      " 63  Standing Tackle              18539 non-null  int64 \n",
      " 64  Sliding Tackle               18539 non-null  int64 \n",
      " 65  Goalkeeper Diving            18539 non-null  int64 \n",
      " 66  Goalkeeper Handling          18539 non-null  int64 \n",
      " 67   GoalkeeperKicking           18539 non-null  int64 \n",
      " 68  Goalkeeper Positioning       18539 non-null  int64 \n",
      " 69  Goalkeeper Reflexes          18539 non-null  int64 \n",
      " 70  ST Rating                    18539 non-null  int64 \n",
      " 71  LW Rating                    18539 non-null  int64 \n",
      " 72  LF Rating                    18539 non-null  int64 \n",
      " 73  CF Rating                    18539 non-null  int64 \n",
      " 74  RF Rating                    18539 non-null  int64 \n",
      " 75  RW Rating                    18539 non-null  int64 \n",
      " 76  CAM Rating                   18539 non-null  int64 \n",
      " 77  LM Rating                    18539 non-null  int64 \n",
      " 78  CM Rating                    18539 non-null  int64 \n",
      " 79  RM Rating                    18539 non-null  int64 \n",
      " 80  LWB Rating                   18539 non-null  int64 \n",
      " 81  CDM Rating                   18539 non-null  int64 \n",
      " 82  RWB Rating                   18539 non-null  int64 \n",
      " 83  LB Rating                    18539 non-null  int64 \n",
      " 84  CB Rating                    18539 non-null  int64 \n",
      " 85  RB Rating                    18539 non-null  int64 \n",
      " 86  GK Rating                    18539 non-null  int64 \n",
      "dtypes: int64(71), object(16)\n",
      "memory usage: 12.3+ MB\n"
     ]
    }
   ],
   "source": [
    "del data[\"Image Link\"]\n",
    "del data[\"National Team Image Link\"]\n",
    "data.info()"
   ]
  },
  {
   "cell_type": "code",
   "execution_count": 5,
   "metadata": {},
   "outputs": [
    {
     "data": {
      "text/plain": [
       "17530"
      ]
     },
     "execution_count": 5,
     "metadata": {},
     "output_type": "execute_result"
    }
   ],
   "source": [
    "data[\"Known As\"].nunique()"
   ]
  },
  {
   "cell_type": "code",
   "execution_count": 6,
   "metadata": {},
   "outputs": [
    {
     "data": {
      "text/plain": [
       "18337"
      ]
     },
     "execution_count": 6,
     "metadata": {},
     "output_type": "execute_result"
    }
   ],
   "source": [
    "data[\"Full Name\"].nunique()"
   ]
  },
  {
   "cell_type": "code",
   "execution_count": 7,
   "metadata": {},
   "outputs": [
    {
     "data": {
      "text/plain": [
       "693"
      ]
     },
     "execution_count": 7,
     "metadata": {},
     "output_type": "execute_result"
    }
   ],
   "source": [
    "data[\"Positions Played\"].nunique()"
   ]
  },
  {
   "cell_type": "code",
   "execution_count": 8,
   "metadata": {},
   "outputs": [
    {
     "data": {
      "text/plain": [
       "15"
      ]
     },
     "execution_count": 8,
     "metadata": {},
     "output_type": "execute_result"
    }
   ],
   "source": [
    "data[\"Best Position\"].nunique()"
   ]
  },
  {
   "cell_type": "code",
   "execution_count": 9,
   "metadata": {},
   "outputs": [
    {
     "data": {
      "text/plain": [
       "160"
      ]
     },
     "execution_count": 9,
     "metadata": {},
     "output_type": "execute_result"
    }
   ],
   "source": [
    "data[\"Nationality\"].nunique()"
   ]
  },
  {
   "cell_type": "code",
   "execution_count": 10,
   "metadata": {},
   "outputs": [
    {
     "data": {
      "text/plain": [
       "679"
      ]
     },
     "execution_count": 10,
     "metadata": {},
     "output_type": "execute_result"
    }
   ],
   "source": [
    "data[\"Club Name\"].nunique()"
   ]
  },
  {
   "cell_type": "code",
   "execution_count": 11,
   "metadata": {},
   "outputs": [
    {
     "data": {
      "text/plain": [
       "20"
      ]
     },
     "execution_count": 11,
     "metadata": {},
     "output_type": "execute_result"
    }
   ],
   "source": [
    "data[\"Club Position\"].nunique()"
   ]
  },
  {
   "cell_type": "code",
   "execution_count": 12,
   "metadata": {},
   "outputs": [
    {
     "data": {
      "text/plain": [
       "10"
      ]
     },
     "execution_count": 12,
     "metadata": {},
     "output_type": "execute_result"
    }
   ],
   "source": [
    "data[\"Contract Until\"].nunique()"
   ]
  },
  {
   "cell_type": "code",
   "execution_count": 13,
   "metadata": {},
   "outputs": [
    {
     "data": {
      "text/plain": [
       "100"
      ]
     },
     "execution_count": 13,
     "metadata": {},
     "output_type": "execute_result"
    }
   ],
   "source": [
    "data[\"Club Jersey Number\"].nunique()"
   ]
  },
  {
   "cell_type": "code",
   "execution_count": 14,
   "metadata": {},
   "outputs": [
    {
     "data": {
      "text/plain": [
       "2"
      ]
     },
     "execution_count": 14,
     "metadata": {},
     "output_type": "execute_result"
    }
   ],
   "source": [
    "data[\"On Loan\"].nunique()"
   ]
  },
  {
   "cell_type": "code",
   "execution_count": 15,
   "metadata": {},
   "outputs": [
    {
     "data": {
      "text/plain": [
       "2"
      ]
     },
     "execution_count": 15,
     "metadata": {},
     "output_type": "execute_result"
    }
   ],
   "source": [
    "data[\"Preferred Foot\"].nunique()"
   ]
  },
  {
   "cell_type": "code",
   "execution_count": 21,
   "metadata": {},
   "outputs": [
    {
     "data": {
      "text/plain": [
       "array(['Left', 'Right'], dtype=object)"
      ]
     },
     "execution_count": 21,
     "metadata": {},
     "output_type": "execute_result"
    }
   ],
   "source": [
    "data[\"Preferred Foot\"].unique()"
   ]
  },
  {
   "cell_type": "code",
   "execution_count": null,
   "metadata": {},
   "outputs": [],
   "source": []
  },
  {
   "cell_type": "code",
   "execution_count": 16,
   "metadata": {},
   "outputs": [
    {
     "data": {
      "text/plain": [
       "36"
      ]
     },
     "execution_count": 16,
     "metadata": {},
     "output_type": "execute_result"
    }
   ],
   "source": [
    "data[\"National Team Name\"].nunique()"
   ]
  },
  {
   "cell_type": "code",
   "execution_count": 17,
   "metadata": {},
   "outputs": [
    {
     "data": {
      "text/plain": [
       "18"
      ]
     },
     "execution_count": 17,
     "metadata": {},
     "output_type": "execute_result"
    }
   ],
   "source": [
    "data[\"National Team Position\"].nunique()"
   ]
  },
  {
   "cell_type": "code",
   "execution_count": 18,
   "metadata": {},
   "outputs": [
    {
     "data": {
      "text/plain": [
       "29"
      ]
     },
     "execution_count": 18,
     "metadata": {},
     "output_type": "execute_result"
    }
   ],
   "source": [
    "data[\"National Team Jersey Number\"].nunique()"
   ]
  },
  {
   "cell_type": "code",
   "execution_count": 19,
   "metadata": {},
   "outputs": [
    {
     "data": {
      "text/plain": [
       "3"
      ]
     },
     "execution_count": 19,
     "metadata": {},
     "output_type": "execute_result"
    }
   ],
   "source": [
    "data[\"Attacking Work Rate\"].nunique()"
   ]
  },
  {
   "cell_type": "code",
   "execution_count": 20,
   "metadata": {},
   "outputs": [
    {
     "data": {
      "text/plain": [
       "3"
      ]
     },
     "execution_count": 20,
     "metadata": {},
     "output_type": "execute_result"
    }
   ],
   "source": [
    "data[\"Defensive Work Rate\"].nunique()"
   ]
  }
 ],
 "metadata": {
  "kernelspec": {
   "display_name": "Python 3.10.4 64-bit",
   "language": "python",
   "name": "python3"
  },
  "language_info": {
   "codemirror_mode": {
    "name": "ipython",
    "version": 3
   },
   "file_extension": ".py",
   "mimetype": "text/x-python",
   "name": "python",
   "nbconvert_exporter": "python",
   "pygments_lexer": "ipython3",
   "version": "3.10.4"
  },
  "vscode": {
   "interpreter": {
    "hash": "fcaaa2e39c35ecc5001cadf1314525f3ff006f3ae901308fe8b734a4c41a783a"
   }
  }
 },
 "nbformat": 4,
 "nbformat_minor": 4
}
